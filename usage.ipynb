{
 "cells": [
  {
   "cell_type": "markdown",
   "id": "e8a01d89",
   "metadata": {},
   "source": [
    "### Main file for running the code\n",
    "Please use this file to run the code. The file has two major components:\n",
    "1. **Main code**: This is the main code for running the model. It includes convertion of the data to the required format, training the model, and saving the model.\n",
    "2. **Tooling**: This is a secondary module that shows some of the tooling that is used in the code."
   ]
  },
  {
   "cell_type": "markdown",
   "id": "416ebf45",
   "metadata": {},
   "source": [
    "### Main code"
   ]
  },
  {
   "cell_type": "code",
   "execution_count": null,
   "id": "75c9565e",
   "metadata": {},
   "outputs": [],
   "source": []
  }
 ],
 "metadata": {
  "language_info": {
   "name": "python"
  }
 },
 "nbformat": 4,
 "nbformat_minor": 5
}
