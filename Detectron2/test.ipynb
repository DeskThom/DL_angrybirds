{
 "cells": [
  {
   "cell_type": "code",
   "execution_count": null,
   "id": "0cd22b5d",
   "metadata": {},
   "outputs": [],
   "source": [
    "import matplotlib.pyplot as plt\n",
    "from utils_detectron import DetectronModel\n",
    "\n",
    "# Initialize the model\n",
    "model = DetectronModel()\n",
    "\n",
    "# Build training configuration\n",
    "model.build_train_cfg()\n",
    "\n",
    "# Train the model\n",
    "model.train()\n",
    "\n",
    "# Evaluate the trained model\n",
    "model.build_eval_cfg()\n",
    "results = model.evaluate()\n",
    "print(results)\n",
    "\n",
    "# Inference on a test image\n",
    "model.build_predict_cfg()\n",
    "image_path = \"scarecrow_coco_dataset/test/test_original_13.png\"\n",
    "output_image = model.predict_and_visualize(image_path)\n",
    "\n",
    "# Display the output image\n",
    "plt.figure(figsize=(12, 8))\n",
    "plt.imshow(output_image)\n",
    "plt.axis(\"off\")\n",
    "plt.show()\n"
   ]
  }
 ],
 "metadata": {
  "kernelspec": {
   "display_name": "venv",
   "language": "python",
   "name": "python3"
  },
  "language_info": {
   "codemirror_mode": {
    "name": "ipython",
    "version": 3
   },
   "file_extension": ".py",
   "mimetype": "text/x-python",
   "name": "python",
   "nbconvert_exporter": "python",
   "pygments_lexer": "ipython3",
   "version": "3.12.7"
  }
 },
 "nbformat": 4,
 "nbformat_minor": 5
}
