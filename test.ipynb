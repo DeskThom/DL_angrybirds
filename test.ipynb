{
 "cells": [
  {
   "cell_type": "markdown",
   "id": "7df64169",
   "metadata": {},
   "source": [
    "### Main code\n",
    "\n",
    "Run the code for the full run"
   ]
  },
  {
   "cell_type": "code",
   "execution_count": null,
   "id": "725d48dc",
   "metadata": {},
   "outputs": [],
   "source": [
    "# Normal training (without transfer learning)\n",
    "import utils_convertion\n",
    "import json\n",
    "\n",
    "import utils_models\n",
    "import utils_support\n",
    "\n",
    "import random\n",
    "import numpy as np\n",
    "import torch\n",
    "seed = 42\n",
    "random.seed(seed)\n",
    "np.random.seed(seed)\n",
    "torch.manual_seed(seed)\n",
    "\n",
    "# Create coco and yolo formats\n",
    "utils_convertion.process_all_subdirs('datasets/bird-detection-farm')\n",
    "utils_convertion.process_all_subdirs('datasets/scarecrow_dataset')\n",
    "\n",
    "# # Create yaml file for data configs - If these functions don't work you will have to manually adjust the path in the yaml files\n",
    "utils_support.generate_yaml('bird-detection-farm', 'bird.yaml')\n",
    "utils_support.generate_yaml('scarecrow_dataset', 'scarecrow.yaml')\n",
    "\n",
    "# MURDER ALL THE CACHES (can lead to corrupted images otherwise)\n",
    "utils_support.delete_cache()\n",
    "\n",
    "# Initialize yolo model\n",
    "trainer = utils_models.YOLOModel()\n",
    "trainer.train(data_yaml='bird.yaml', epochs = 1, imgsz=640, cls= 0.8, iou=0.3, conf=0.1, batch_size=32)   # iou setting influences NMS. cls influences class importance (may be unnecessary)"
   ]
  },
  {
   "cell_type": "code",
   "execution_count": null,
   "id": "41442ee5",
   "metadata": {},
   "outputs": [],
   "source": [
    "# Transfer training\n",
    "import utils_convertion\n",
    "import json\n",
    "import utils_support\n",
    "\n",
    "import random\n",
    "import numpy as np\n",
    "import torch\n",
    "seed = 42\n",
    "random.seed(seed)\n",
    "np.random.seed(seed)\n",
    "torch.manual_seed(seed)\n",
    "\n",
    "# Create coco and yolo formats\n",
    "utils_convertion.process_all_subdirs('datasets/bird-detection-farm')\n",
    "utils_convertion.process_all_subdirs('datasets/scarecrow_dataset')\n",
    "\n",
    "# # Create yaml file for data configs - If these functions don't work you will have to manually adjust the path in the yaml files\n",
    "utils_support.generate_yaml('bird-detection-farm', 'bird.yaml')\n",
    "utils_support.generate_yaml('scarecrow_dataset', 'scarecrow.yaml')\n",
    "\n",
    "# MURDER ALL THE CACHES (can lead to corrupted images otherwise)\n",
    "utils_support.delete_cache()\n",
    "\n",
    "# Initialize yolo model\n",
    "from utils_models2 import YOLOModel\n",
    "\n",
    "trainer = YOLOModel(model_path='models/pretrained/yolo11n.pt', device='cpu')\n",
    "\n",
    "# Phase 1: Train on bird.yaml\n",
    "# Phase 2: Fine-tune on scarecrow.yaml using best weights from Phase 1\n",
    "trainer.transfer_training(\n",
    "    additionaldata_yaml='bird.yaml',\n",
    "    originaldata_yaml='scarecrow.yaml',\n",
    "    intermediate_weights='models/phase1_bird.pt',\n",
    "    epochs=1,\n",
    "    imgsz=640,\n",
    "    batch_size=32,\n",
    "    cls=0.1,\n",
    "    iou=0.3,\n",
    "    conf=0.1,\n",
    "    debug_mode=False\n",
    ")"
   ]
  },
  {
   "cell_type": "code",
   "execution_count": null,
   "id": "077a6154",
   "metadata": {},
   "outputs": [],
   "source": [
    "# Grid search \n",
    "from utils_models2 import YOLOModel\n",
    "\n",
    "# Initialize model \n",
    "trainer = YOLOModel(model_path='models/pretrained/yolo11n.pt', device='cpu') # alter cpu/gpu\n",
    "\n",
    "# Run grid search using param_grid.json\n",
    "trainer.grid_search(\n",
    "    data_yaml='bird.yaml',\n",
    "    epochs=2,                  # fewer epochs for faster testing\n",
    "    result_file='grid_results.json'  # the output file name\n",
    ")\n",
    "\n",
    "with open('grid_results.json', 'r') as f:\n",
    "    results = json.load(f)\n",
    "\n",
    "best = max(results, key=lambda r: r['mAP_50'])\n",
    "print(\"Best combo:\", best[\"params\"])\n",
    "print(\"Best mAP@50:\", best[\"mAP_50\"])\n"
   ]
  },
  {
   "cell_type": "markdown",
   "id": "c84c6b83",
   "metadata": {},
   "source": [
    "### Converters"
   ]
  },
  {
   "cell_type": "code",
   "execution_count": null,
   "id": "8219a3a9",
   "metadata": {},
   "outputs": [],
   "source": [
    "from PIL import Image\n",
    "import os\n",
    "\n",
    "def validate_images(image_dir):\n",
    "    # Iterate through all image files in the directory\n",
    "    for image_filename in os.listdir(image_dir):\n",
    "        image_path = os.path.join(image_dir, image_filename)\n",
    "        try:\n",
    "            # Try to open the image file\n",
    "            img = Image.open(image_path)\n",
    "            img.verify()  # Verify that it is a valid image\n",
    "            print(f\"Valid image: {image_path}\")\n",
    "        except (IOError, SyntaxError) as e:\n",
    "            print(f\"Corrupt image: {image_path} - Error: {e}\")\n",
    "\n",
    "# Example usage:\n",
    "image_dir = 'datasets/scarecrow_dataset/train/images'\n",
    "validate_images(image_dir)"
   ]
  },
  {
   "cell_type": "markdown",
   "id": "d7b20599",
   "metadata": {},
   "source": [
    "### Model loops"
   ]
  },
  {
   "cell_type": "code",
   "execution_count": null,
   "id": "88362090",
   "metadata": {},
   "outputs": [],
   "source": [
    "import utils_models\n",
    "import utils_support\n",
    "\n",
    "# Create yaml\n",
    "#support_utils.generate_yaml(folder_name='bird-detection-farm',yaml_filename='birdfarm.yaml')\n",
    "\n",
    "trainer = utils_models.YOLOModel()\n",
    "\n",
    "trainer.train(data_yaml='data.yaml',epochs = 10, imgsz=640, batch_size=32, debug_mode=True)"
   ]
  },
  {
   "cell_type": "code",
   "execution_count": null,
   "id": "d0dfd0ef",
   "metadata": {},
   "outputs": [],
   "source": [
    "import utils_support\n",
    "\n",
    "utils_support.visualize_yolo_annotations('datasets/scarecrow_dataset/test/images/test_original_2.png', 'datasets/scarecrow_dataset/test/labels/test_original_2.txt', class_names=['Bird'])"
   ]
  },
  {
   "cell_type": "code",
   "execution_count": null,
   "id": "4fffc172",
   "metadata": {},
   "outputs": [],
   "source": [
    "import utils_models\n",
    "\n",
    "trainer = utils_models.YOLOModel()\n",
    "\n",
    "trainer.predict('datasets/scarecrow_dataset/test/images/test_original_2.png')"
   ]
  },
  {
   "cell_type": "code",
   "execution_count": null,
   "id": "043af7d3",
   "metadata": {},
   "outputs": [],
   "source": [
    "import utils_support\n",
    "\n",
    "utils_support.generate_yaml(yaml_filename='test.yaml')"
   ]
  },
  {
   "cell_type": "code",
   "execution_count": null,
   "id": "748b5be4",
   "metadata": {},
   "outputs": [],
   "source": [
    "import utils_support\n",
    "\n",
    "utils_support.delete_cache()"
   ]
  }
 ],
 "metadata": {
  "kernelspec": {
   "display_name": "xai",
   "language": "python",
   "name": "python3"
  },
  "language_info": {
   "codemirror_mode": {
    "name": "ipython",
    "version": 3
   },
   "file_extension": ".py",
   "mimetype": "text/x-python",
   "name": "python",
   "nbconvert_exporter": "python",
   "pygments_lexer": "ipython3",
   "version": "3.11.11"
  }
 },
 "nbformat": 4,
 "nbformat_minor": 5
}
