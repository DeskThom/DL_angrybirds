{
 "cells": [
  {
   "cell_type": "markdown",
   "id": "7df64169",
   "metadata": {},
   "source": [
    "### Main code\n",
    "\n",
    "Run the code for the full run"
   ]
  },
  {
   "cell_type": "markdown",
   "id": "0e85376d",
   "metadata": {},
   "source": [
    "First running a gridsearch and later using these parameters in the model, this model only runs on the original data to later check whether transfer training indeed had a positive effect on model performance or not."
   ]
  },
  {
   "cell_type": "code",
   "execution_count": null,
   "id": "725d48dc",
   "metadata": {},
   "outputs": [],
   "source": [
    "# Normal training (without transfer learning)\n",
    "import utils_convertion\n",
    "import json\n",
    "import utils_models\n",
    "import utils_support\n",
    "\n",
    "import random\n",
    "import numpy as np\n",
    "import torch\n",
    "seed = 42\n",
    "random.seed(seed)\n",
    "np.random.seed(seed)\n",
    "torch.manual_seed(seed)\n",
    "\n",
    "# Prepare the data (create coco and yolo formats)\n",
    "utils_convertion.process_all_subdirs('datasets/scarecrow_dataset')\n",
    "\n",
    "# # Create yaml file for data configs - If these functions don't work you will have to manually adjust the path in the yaml files\n",
    "utils_support.generate_yaml('scarecrow_dataset', 'scarecrow.yaml')\n",
    "\n",
    "# MURDER ALL THE CACHES (can lead to corrupted images otherwise)\n",
    "utils_support.delete_cache()\n",
    "\n",
    "# Initialize yolo model\n",
    "trainer = utils_models.YOLOModel(model_path='models/pretrained/yolo11n.pt', device='cuda')\n",
    "\n",
    "# Step 1: run the grid search \n",
    "trainer.grid_search(\n",
    "    data_yaml='scarecrow.yaml',\n",
    "    epochs=25,  # Keep small for speed; increase for actual tuning\n",
    "    seed=seed,\n",
    "    result_file='grid_results.json'\n",
    ")\n",
    "\n",
    "# Step 2: load best combination from gridsearch\n",
    "with open('grid_results.json', 'r') as f:\n",
    "    results = json.load(f)\n",
    "\n",
    "best_result = max(results, key=lambda r: r['mAP_50'])\n",
    "best_params = best_result['params']\n",
    "print(best_params)\n"
   ]
  },
  {
   "cell_type": "code",
   "execution_count": null,
   "id": "41442ee5",
   "metadata": {},
   "outputs": [],
   "source": [
    "# Transfer training\n",
    "import utils_convertion\n",
    "import json\n",
    "import utils_support\n",
    "\n",
    "import random\n",
    "import numpy as np\n",
    "import torch\n",
    "seed = 42\n",
    "random.seed(seed)\n",
    "np.random.seed(seed)\n",
    "torch.manual_seed(seed)\n",
    "\n",
    "# Create coco and yolo formats\n",
    "utils_convertion.process_all_subdirs('datasets/bird-detection-farm')\n",
    "utils_convertion.process_all_subdirs('datasets/scarecrow_dataset')\n",
    "\n",
    "# # Create yaml file for data configs - If these functions don't work you will have to manually adjust the path in the yaml files\n",
    "utils_support.generate_yaml('bird-detection-farm', 'bird.yaml')\n",
    "utils_support.generate_yaml('scarecrow_dataset', 'scarecrow.yaml')\n",
    "\n",
    "# MURDER ALL THE CACHES (can lead to corrupted images otherwise)\n",
    "utils_support.delete_cache()\n",
    "\n",
    "# Initialize yolo model\n",
    "from utils_models import YOLOModel\n",
    "\n",
    "trainer = YOLOModel(model_path='models/pretrained/yolo11n.pt', device='cuda')\n",
    "\n",
    "# Phase 1: Train on bird.yaml\n",
    "# Step 1: grid search for phase 1\n",
    "trainer.grid_search(\n",
    "    data_yaml='bird.yaml',\n",
    "   epochs=25,  # Quick run; increase for real search\n",
    "    seed=seed,\n",
    "    result_file='grid_bird_results.json'\n",
    ")\n",
    "\n",
    "with open('grid_bird_results.json', 'r') as f:\n",
    "    bird_results = json.load(f)\n",
    "\n",
    "#best_bird_params = max(bird_results, key=lambda r: r['mAP_50'])['params']\n",
    "\n",
    "# Step 2: train on bird.yaml with best parameters and save weights\n",
    "trainer.train(\n",
    "    data_yaml='scarecrow.yaml',\n",
    "    epochs=100, #100 is enough epochs for this small dataset\n",
    "    seed=seed,\n",
    "    #**best_params  # Automatically injects imgsz, batch_size, iou, conf, cls\n",
    "    iou= 0.3,\n",
    "    conf =0.3, \n",
    "    imgsz= 896,\n",
    "    cls= 0.05,\n",
    "    batch_size=20\n",
    ")\n",
    "trainer.save('models/phase2_scarecrow.pt')\n",
    "\n",
    "\n",
    "# Phase 2: Fine-tune on scarecrow.yaml using best weights from Phase 1\n",
    "# Step 1: grid search for phase 2\n",
    "\n",
    "\n",
    "\n",
    "# Step 2: train on scarecrow.yaml with best parameters\n",
    "trainer.train(\n",
    "    data_yaml='bird.yaml',\n",
    "    epochs=100,#100 is enough epochs for this small dataset\n",
    "    seed=seed,\n",
    "    iou= 0.3,\n",
    "    conf =0.1, \n",
    "    imgsz= 896,\n",
    "    cls= 0.05,\n",
    "    batch_size=20\n",
    ")\n",
    "trainer.save('models/phase1_bird.pt')\n",
    "# Step 3: Evaluate the model\n",
    "from ultralytics import YOLO\n",
    "model = YOLO('models/phase1_scarecrow.pt')# Path to your trained model\n",
    "model.val(data='scarecrows.yaml', split='test')       # Run on test set\n",
    "model = YOLO('models/phase2_scarecrow.pt') # Path to your trained model\n",
    "model.val(data='bird.yaml', split='test')       # Run on test set\n",
    "\n"
   ]
  },
  {
   "cell_type": "markdown",
   "id": "c84c6b83",
   "metadata": {},
   "source": [
    "### Converters"
   ]
  },
  {
   "cell_type": "code",
   "execution_count": null,
   "id": "8219a3a9",
   "metadata": {},
   "outputs": [],
   "source": [
    "from PIL import Image\n",
    "import os\n",
    "\n",
    "def validate_images(image_dir):\n",
    "    # Iterate through all image files in the directory\n",
    "    for image_filename in os.listdir(image_dir):\n",
    "        image_path = os.path.join(image_dir, image_filename)\n",
    "        try:\n",
    "            # Try to open the image file\n",
    "            img = Image.open(image_path)\n",
    "            img.verify()  # Verify that it is a valid image\n",
    "            print(f\"Valid image: {image_path}\")\n",
    "        except (IOError, SyntaxError) as e:\n",
    "            print(f\"Corrupt image: {image_path} - Error: {e}\")\n",
    "\n",
    "# Example usage:\n",
    "image_dir = 'datasets/scarecrow_dataset/train/images'\n",
    "validate_images(image_dir)"
   ]
  },
  {
   "cell_type": "markdown",
   "id": "d7b20599",
   "metadata": {},
   "source": [
    "### Model loops"
   ]
  },
  {
   "cell_type": "code",
   "execution_count": null,
   "id": "88362090",
   "metadata": {},
   "outputs": [],
   "source": [
    "import utils_models\n",
    "import utils_support\n",
    "\n",
    "# Create yaml\n",
    "#support_utils.generate_yaml(folder_name='bird-detection-farm',yaml_filename='birdfarm.yaml')\n",
    "\n",
    "trainer = utils_models.YOLOModel()\n",
    "\n",
    "trainer.train(data_yaml='data.yaml',epochs = 10, imgsz=640, batch_size=32, debug_mode=True)"
   ]
  },
  {
   "cell_type": "code",
   "execution_count": null,
   "id": "d0dfd0ef",
   "metadata": {},
   "outputs": [],
   "source": [
    "import utils_support\n",
    "\n",
    "utils_support.visualize_yolo_annotations('datasets/scarecrow_dataset/test/images/test_original_2.png', 'datasets/scarecrow_dataset/test/labels/test_original_2.txt', class_names=['Bird'])"
   ]
  },
  {
   "cell_type": "code",
   "execution_count": null,
   "id": "4fffc172",
   "metadata": {},
   "outputs": [],
   "source": [
    "import utils_models\n",
    "\n",
    "trainer = utils_models.YOLOModel()\n",
    "\n",
    "trainer.predict('datasets/scarecrow_dataset/test/images/test_original_2.png')"
   ]
  },
  {
   "cell_type": "code",
   "execution_count": null,
   "id": "043af7d3",
   "metadata": {},
   "outputs": [],
   "source": [
    "import utils_support\n",
    "\n",
    "utils_support.generate_yaml(yaml_filename='test.yaml')"
   ]
  },
  {
   "cell_type": "code",
   "execution_count": null,
   "id": "748b5be4",
   "metadata": {},
   "outputs": [],
   "source": [
    "import utils_support\n",
    "\n",
    "utils_support.delete_cache()"
   ]
  }
 ],
 "metadata": {
  "kernelspec": {
   "display_name": "Python 3",
   "language": "python",
   "name": "python3"
  },
  "language_info": {
   "codemirror_mode": {
    "name": "ipython",
    "version": 3
   },
   "file_extension": ".py",
   "mimetype": "text/x-python",
   "name": "python",
   "nbconvert_exporter": "python",
   "pygments_lexer": "ipython3",
   "version": "3.11.9"
  }
 },
 "nbformat": 4,
 "nbformat_minor": 5
}
