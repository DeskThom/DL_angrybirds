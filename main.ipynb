{
 "cells": [
  {
   "cell_type": "markdown",
   "id": "e8a01d89",
   "metadata": {},
   "source": [
    "### Main file for running the code\n",
    "Please use this file to run the code. The file has two major components:\n",
    "1. **Main code**: This is the main code for running the model. It includes convertion of the data to the required format, training the model, and saving the model.\n",
    "2. **Tooling**: This is a secondary module that shows some of the tooling that is used in the code."
   ]
  },
  {
   "cell_type": "markdown",
   "id": "416ebf45",
   "metadata": {},
   "source": [
    "### Main code\n",
    "\n",
    "#### Normal training"
   ]
  },
  {
   "cell_type": "code",
   "execution_count": null,
   "id": "75c9565e",
   "metadata": {},
   "outputs": [
    {
     "name": "stdout",
     "output_type": "stream",
     "text": [
      "✅ Saved COCO JSON to datasets/scarecrow_dataset\\train\\coco_annotations.json\n",
      "✅ YOLO labels saved to 'datasets/scarecrow_dataset\\train\\labels'\n",
      "✅ Saved YOLO labels to datasets/scarecrow_dataset\\train\\labels\n",
      "✅ Saved COCO JSON to datasets/scarecrow_dataset\\val\\coco_annotations.json\n",
      "✅ YOLO labels saved to 'datasets/scarecrow_dataset\\val\\labels'\n",
      "✅ Saved YOLO labels to datasets/scarecrow_dataset\\val\\labels\n",
      "✅ Saved COCO JSON to datasets/scarecrow_dataset\\test\\coco_annotations.json\n",
      "✅ YOLO labels saved to 'datasets/scarecrow_dataset\\test\\labels'\n",
      "✅ Saved YOLO labels to datasets/scarecrow_dataset\\test\\labels\n",
      "Current working directory: c:\\Users\\niels\\.vscode\\Deeplearning\\angryBirds\\DL_angrybirds\n",
      "'scarecrow_dataset' not found in the current working directory. Searching...\n",
      "Found 'scarecrow_dataset' at: c:\\Users\\niels\\.vscode\\Deeplearning\\angryBirds\\DL_angrybirds\\datasets\\scarecrow_dataset\n",
      "YAML file written as scarecrow.yaml with path: c:\\Users\\niels\\.vscode\\Deeplearning\\angryBirds\\DL_angrybirds\\datasets\\scarecrow_dataset\n",
      "✅ Cache files deleted.\n",
      "No parameter grid provided. Using default values.\n",
      "Running grid search over 27 combinations...\n",
      "\n",
      "➡ Running combination 1/27: {'iou': 0.2, 'conf': 0.1, 'imgsz': 640, 'cls': 0.05, 'batch': 16}\n",
      "New https://pypi.org/project/ultralytics/8.3.131 available  Update with 'pip install -U ultralytics'\n",
      "Ultralytics 8.3.124  Python-3.11.9 torch-2.5.1+cu121 CUDA:0 (NVIDIA GeForce RTX 3060 Laptop GPU, 6144MiB)\n",
      "\u001b[34m\u001b[1mengine\\trainer: \u001b[0mtask=detect, mode=train, model=models/pretrained/yolo11n.pt, data=scarecrow.yaml, epochs=25, time=None, patience=100, batch=16, imgsz=640, save=True, save_period=-1, cache=False, device=cuda, workers=8, project=None, name=train12, exist_ok=False, pretrained=True, optimizer=auto, verbose=True, seed=42, deterministic=True, single_cls=False, rect=False, cos_lr=False, close_mosaic=10, resume=False, amp=True, fraction=1.0, profile=False, freeze=None, multi_scale=False, overlap_mask=True, mask_ratio=4, dropout=0.0, val=True, split=val, save_json=False, conf=0.1, iou=0.2, max_det=300, half=False, dnn=False, plots=True, source=None, vid_stride=1, stream_buffer=False, visualize=False, augment=False, agnostic_nms=False, classes=None, retina_masks=False, embed=None, show=False, save_frames=False, save_txt=False, save_conf=False, save_crop=False, show_labels=True, show_conf=True, show_boxes=True, line_width=None, format=torchscript, keras=False, optimize=False, int8=False, dynamic=False, simplify=True, opset=None, workspace=None, nms=False, lr0=0.01, lrf=0.01, momentum=0.937, weight_decay=0.0005, warmup_epochs=3.0, warmup_momentum=0.8, warmup_bias_lr=0.1, box=7.5, cls=0.05, dfl=1.5, pose=12.0, kobj=1.0, nbs=64, hsv_h=0.015, hsv_s=0.7, hsv_v=0.4, degrees=0.0, translate=0.1, scale=0.5, shear=0.0, perspective=0.0, flipud=0.0, fliplr=0.5, bgr=0.0, mosaic=1.0, mixup=0.0, cutmix=0.0, copy_paste=0.0, copy_paste_mode=flip, auto_augment=randaugment, erasing=0.4, cfg=None, tracker=botsort.yaml, save_dir=runs\\detect\\train12\n",
      "Overriding model.yaml nc=80 with nc=1\n",
      "\n",
      "                   from  n    params  module                                       arguments                     \n",
      "  0                  -1  1       464  ultralytics.nn.modules.conv.Conv             [3, 16, 3, 2]                 \n",
      "  1                  -1  1      4672  ultralytics.nn.modules.conv.Conv             [16, 32, 3, 2]                \n",
      "  2                  -1  1      6640  ultralytics.nn.modules.block.C3k2            [32, 64, 1, False, 0.25]      \n",
      "  3                  -1  1     36992  ultralytics.nn.modules.conv.Conv             [64, 64, 3, 2]                \n",
      "  4                  -1  1     26080  ultralytics.nn.modules.block.C3k2            [64, 128, 1, False, 0.25]     \n",
      "  5                  -1  1    147712  ultralytics.nn.modules.conv.Conv             [128, 128, 3, 2]              \n",
      "  6                  -1  1     87040  ultralytics.nn.modules.block.C3k2            [128, 128, 1, True]           \n",
      "  7                  -1  1    295424  ultralytics.nn.modules.conv.Conv             [128, 256, 3, 2]              \n",
      "  8                  -1  1    346112  ultralytics.nn.modules.block.C3k2            [256, 256, 1, True]           \n",
      "  9                  -1  1    164608  ultralytics.nn.modules.block.SPPF            [256, 256, 5]                 \n",
      " 10                  -1  1    249728  ultralytics.nn.modules.block.C2PSA           [256, 256, 1]                 \n",
      " 11                  -1  1         0  torch.nn.modules.upsampling.Upsample         [None, 2, 'nearest']          \n",
      " 12             [-1, 6]  1         0  ultralytics.nn.modules.conv.Concat           [1]                           \n",
      " 13                  -1  1    111296  ultralytics.nn.modules.block.C3k2            [384, 128, 1, False]          \n",
      " 14                  -1  1         0  torch.nn.modules.upsampling.Upsample         [None, 2, 'nearest']          \n",
      " 15             [-1, 4]  1         0  ultralytics.nn.modules.conv.Concat           [1]                           \n",
      " 16                  -1  1     32096  ultralytics.nn.modules.block.C3k2            [256, 64, 1, False]           \n",
      " 17                  -1  1     36992  ultralytics.nn.modules.conv.Conv             [64, 64, 3, 2]                \n",
      " 18            [-1, 13]  1         0  ultralytics.nn.modules.conv.Concat           [1]                           \n",
      " 19                  -1  1     86720  ultralytics.nn.modules.block.C3k2            [192, 128, 1, False]          \n",
      " 20                  -1  1    147712  ultralytics.nn.modules.conv.Conv             [128, 128, 3, 2]              \n",
      " 21            [-1, 10]  1         0  ultralytics.nn.modules.conv.Concat           [1]                           \n",
      " 22                  -1  1    378880  ultralytics.nn.modules.block.C3k2            [384, 256, 1, True]           \n",
      " 23        [16, 19, 22]  1    430867  ultralytics.nn.modules.head.Detect           [1, [64, 128, 256]]           \n",
      "YOLO11n summary: 181 layers, 2,590,035 parameters, 2,590,019 gradients, 6.4 GFLOPs\n",
      "\n",
      "Transferred 448/499 items from pretrained weights\n",
      "Freezing layer 'model.23.dfl.conv.weight'\n",
      "\u001b[34m\u001b[1mAMP: \u001b[0mrunning Automatic Mixed Precision (AMP) checks...\n",
      "Downloading https://github.com/ultralytics/assets/releases/download/v8.3.0/yolo11n.pt to 'yolo11n.pt'...\n"
     ]
    },
    {
     "name": "stderr",
     "output_type": "stream",
     "text": [
      "100%|██████████| 5.35M/5.35M [00:00<00:00, 15.7MB/s]\n"
     ]
    },
    {
     "name": "stdout",
     "output_type": "stream",
     "text": [
      "\u001b[34m\u001b[1mAMP: \u001b[0mchecks passed \n",
      "\u001b[34m\u001b[1mtrain: \u001b[0mFast image access  (ping: 0.20.1 ms, read: 1041.1162.2 MB/s, size: 10102.7 KB)\n"
     ]
    },
    {
     "name": "stderr",
     "output_type": "stream",
     "text": [
      "\u001b[34m\u001b[1mtrain: \u001b[0mScanning C:\\Users\\niels\\.vscode\\Deeplearning\\angryBirds\\DL_angrybirds\\datasets\\scarecrow_dataset\\train\\labels... 263 images, 20 backgrounds, 0 corrupt: 100%|██████████| 263/263 [00:06<00:00, 41.08it/s]\n"
     ]
    },
    {
     "name": "stdout",
     "output_type": "stream",
     "text": [
      "\u001b[34m\u001b[1mtrain: \u001b[0mNew cache created: C:\\Users\\niels\\.vscode\\Deeplearning\\angryBirds\\DL_angrybirds\\datasets\\scarecrow_dataset\\train\\labels.cache\n",
      "\u001b[34m\u001b[1mval: \u001b[0mFast image access  (ping: 0.20.1 ms, read: 611.6195.6 MB/s, size: 13683.1 KB)\n"
     ]
    },
    {
     "name": "stderr",
     "output_type": "stream",
     "text": [
      "\u001b[34m\u001b[1mval: \u001b[0mScanning C:\\Users\\niels\\.vscode\\Deeplearning\\angryBirds\\DL_angrybirds\\datasets\\scarecrow_dataset\\val\\labels... 32 images, 5 backgrounds, 0 corrupt: 100%|██████████| 32/32 [00:02<00:00, 14.61it/s]"
     ]
    },
    {
     "name": "stdout",
     "output_type": "stream",
     "text": [
      "\u001b[34m\u001b[1mval: \u001b[0mC:\\Users\\niels\\.vscode\\Deeplearning\\angryBirds\\DL_angrybirds\\datasets\\scarecrow_dataset\\val\\images\\val_original_26.jpg: 1 duplicate labels removed\n"
     ]
    },
    {
     "name": "stderr",
     "output_type": "stream",
     "text": [
      "\n"
     ]
    },
    {
     "name": "stdout",
     "output_type": "stream",
     "text": [
      "\u001b[34m\u001b[1mval: \u001b[0mNew cache created: C:\\Users\\niels\\.vscode\\Deeplearning\\angryBirds\\DL_angrybirds\\datasets\\scarecrow_dataset\\val\\labels.cache\n"
     ]
    }
   ],
   "source": [
    "# Normal training (without transfer learning)\n",
    "import utils_convertion\n",
    "import json\n",
    "import utils_models\n",
    "import utils_support\n",
    "\n",
    "import random\n",
    "import numpy as np\n",
    "import torch\n",
    "\n",
    "seed = 42\n",
    "random.seed(seed)\n",
    "np.random.seed(seed)\n",
    "torch.manual_seed(seed)\n",
    "\n",
    "# Prepare the data (create coco and yolo formats)\n",
    "utils_convertion.process_all_subdirs('datasets/scarecrow_dataset')\n",
    "\n",
    "# # Create yaml file for data configs - If these functions don't work you will have to manually adjust the path in the yaml files\n",
    "utils_support.generate_yaml('scarecrow_dataset', 'scarecrow.yaml')\n",
    "\n",
    "# MURDER ALL THE CACHES (can lead to corrupted images otherwise)\n",
    "utils_support.delete_cache()\n",
    "\n",
    "# Initialize yolo model\n",
    "trainer = utils_models.YOLOModel(model_path='models/pretrained/yolo11n.pt', device='cuda')\n",
    "\n",
    "# Step 1: run the grid search \n",
    "trainer.grid_search(\n",
    "    data_yaml='scarecrow.yaml',\n",
    "    epochs=25,  # Keep small for speed; increase for actual tuning\n",
    "    seed=seed,\n",
    "    result_file='grid_results.json'\n",
    ")\n",
    "\n",
    "# Step 2: load best combination from gridsearch\n",
    "with open('grid_results.json', 'r') as f:\n",
    "    results = json.load(f)\n",
    "\n",
    "best_result = max(results, key=lambda r: r['mAP_50'])\n",
    "best_params = best_result['params']\n",
<<<<<<< HEAD:test.ipynb
    "print(best_params)\n"
=======
    "\n",
    "# Step 3: train the final model with the best parameters\n",
    "trainer.train(\n",
    "    data_yaml='scarecrow.yaml',\n",
    "    epochs=1, # Keep small for testing; increase for actual training\n",
    "    seed=seed,\n",
    "    **best_params  # Automatically injects imgsz, batch_size, iou, conf, cls\n",
    ")"
   ]
  },
  {
   "cell_type": "markdown",
   "id": "7306ca00",
   "metadata": {},
   "source": [
    "#### Transfer learning"
>>>>>>> origin/main:main.ipynb
   ]
  },
  {
   "cell_type": "code",
   "execution_count": null,
   "id": "d7a964b0",
   "metadata": {},
   "outputs": [],
   "source": [
    "# Transfer training\n",
    "import utils_convertion\n",
    "import json\n",
    "import utils_support\n",
    "\n",
    "import random\n",
    "import numpy as np\n",
    "import torch\n",
    "\n",
    "seed = 42\n",
    "random.seed(seed)\n",
    "np.random.seed(seed)\n",
    "torch.manual_seed(seed)\n",
    "\n",
    "# Create coco and yolo formats\n",
    "utils_convertion.process_all_subdirs('datasets/bird-detection-farm')\n",
    "utils_convertion.process_all_subdirs('datasets/scarecrow_dataset')\n",
    "\n",
    "# Create yaml file for data configs - If these functions don't work you will have to manually adjust the path in the yaml files\n",
    "utils_support.generate_yaml('bird-detection-farm', 'bird.yaml')\n",
    "utils_support.generate_yaml('scarecrow_dataset', 'scarecrow.yaml')\n",
    "\n",
    "# MURDER ALL THE CACHES (can lead to corrupted images otherwise)\n",
    "utils_support.delete_cache()\n",
    "\n",
    "# Initialize yolo model\n",
    "from utils_models import YOLOModel\n",
    "\n",
    "trainer = YOLOModel(model_path='models/pretrained/yolo11n.pt', device='cuda')\n",
    "\n",
    "# Phase 1: Train on bird.yaml\n",
    "# Step 1: grid search for phase 1\n",
    "#trainer.grid_search(\n",
    " #   data_yaml='bird.yaml',\n",
    " #  epochs=25,  # Quick run; increase for real search\n",
    " #   seed=seed,\n",
    "#    result_file='grid_bird_results.json'\n",
    "#)\n",
    "\n",
    "with open('grid_bird_results.json', 'r') as f:\n",
    "    bird_results = json.load(f)\n",
    "\n",
    "#best_bird_params = max(bird_results, key=lambda r: r['mAP_50'])['params']\n",
    "\n",
    "# Step 2: train on bird.yaml with best parameters and save weights\n",
    "trainer.train(\n",
    "    data_yaml='bird.yaml',\n",
    "    epochs=100, #100 is enough epochs for this small dataset\n",
    "    seed=seed,\n",
    "    #**best_params  # Automatically injects imgsz, batch_size, iou, conf, cls\n",
    "    iou= 0.3,\n",
    "    conf =0.1, \n",
    "    imgsz= 896,\n",
    "    cls= 0.05,\n",
    "    batch_size=20\n",
    ")\n",
    "trainer.save('models/phase1_bird.pt')\n",
    "\n",
    "\n",
    "# Phase 2: Fine-tune on scarecrow.yaml using best weights from Phase 1\n",
    "# Step 1: grid search for phase 2\n",
    "\n",
    "\n",
    "\n",
    "# Step 2: train on scarecrow.yaml with best parameters\n",
    "trainer.train(\n",
    "    data_yaml='scarecrow.yaml',\n",
    "    epochs=100,#100 is enough epochs for this small dataset\n",
    "    seed=seed,\n",
    "    iou= 0.3,\n",
    "    conf =0.1, \n",
    "    imgsz= 896,\n",
    "    cls= 0.05,\n",
    "    batch_size=20\n",
    ")\n",
    "\n",
    "trainer.save('models/phase2_scarecrow.pt')\n",
    "# Step 3: Evaluate the model\n",
    "from ultralytics import YOLO\n",
    "model = YOLO('models/phase1_scarecrow.pt')# Path to your trained model\n",
    "model.val(data='scarecrows.yaml', split='test')       # Run on test set\n",
    "model = YOLO('models/phase2_scarecrow.pt') # Path to your trained model\n",
    "model.val(data='bird.yaml', split='test')       # Run on test set\n",
    "\n"
   ]
  },
  {
   "cell_type": "markdown",
   "id": "663c3bb0",
   "metadata": {},
   "source": [
    "### Tooling\n",
    "Testing if the yolo annotations are formatted correctly.\n",
    "There is also tooling for conversions yaml creation. These can be found in the main code block."
   ]
  },
  {
   "cell_type": "code",
   "execution_count": null,
   "id": "2fab0558",
   "metadata": {},
   "outputs": [],
   "source": [
    "# For testing if the yolo annotations work\n",
    "import utils_support\n",
    "\n",
    "utils_support.visualize_yolo_annotations('datasets/scarecrow_dataset/test/images/test_original_2.png', 'datasets/scarecrow_dataset/test/labels/test_original_2.txt', class_names=['Bird'])"
   ]
  }
 ],
 "metadata": {
  "kernelspec": {
<<<<<<< HEAD
   "display_name": "Python 3",
=======
   "display_name": "venv",
>>>>>>> origin/main
   "language": "python",
   "name": "python3"
  },
  "language_info": {
   "codemirror_mode": {
    "name": "ipython",
    "version": 3
   },
   "file_extension": ".py",
   "mimetype": "text/x-python",
   "name": "python",
   "nbconvert_exporter": "python",
   "pygments_lexer": "ipython3",
<<<<<<< HEAD
   "version": "3.11.9"
=======
   "version": "3.12.7"
>>>>>>> origin/main
  }
 },
 "nbformat": 4,
 "nbformat_minor": 5
}
